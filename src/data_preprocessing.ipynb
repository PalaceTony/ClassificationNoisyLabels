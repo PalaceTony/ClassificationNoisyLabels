{
 "cells": [
  {
   "cell_type": "code",
   "execution_count": 10,
   "metadata": {},
   "outputs": [
    {
     "data": {
      "text/plain": [
       "<numpy.lib.npyio.NpzFile at 0x7f4f39653ac0>"
      ]
     },
     "execution_count": 10,
     "metadata": {},
     "output_type": "execute_result"
    }
   ],
   "source": [
    "import numpy as np\n",
    "\n",
    "data = np.load(\"raw/MixedWM38.npz\")\n",
    "data"
   ]
  },
  {
   "cell_type": "code",
   "execution_count": 11,
   "metadata": {},
   "outputs": [],
   "source": [
    "raw = data[\"arr_0\"]\n",
    "label = data[\"arr_1\"]"
   ]
  },
  {
   "cell_type": "code",
   "execution_count": 5,
   "metadata": {},
   "outputs": [
    {
     "data": {
      "text/plain": [
       "array([0, 1, 2], dtype=int32)"
      ]
     },
     "execution_count": 5,
     "metadata": {},
     "output_type": "execute_result"
    }
   ],
   "source": [
    "np.unique(raw[0])"
   ]
  },
  {
   "cell_type": "code",
   "execution_count": 6,
   "metadata": {},
   "outputs": [
    {
     "data": {
      "text/plain": [
       "(38015, 52, 52)"
      ]
     },
     "execution_count": 6,
     "metadata": {},
     "output_type": "execute_result"
    }
   ],
   "source": [
    "raw.shape"
   ]
  },
  {
   "cell_type": "code",
   "execution_count": 10,
   "metadata": {},
   "outputs": [
    {
     "data": {
      "text/plain": [
       "array([[[0, 0, 0, ..., 0, 0, 0],\n",
       "        [0, 0, 0, ..., 0, 0, 0],\n",
       "        [0, 0, 0, ..., 0, 0, 0],\n",
       "        ...,\n",
       "        [0, 0, 0, ..., 0, 0, 0],\n",
       "        [0, 0, 0, ..., 0, 0, 0],\n",
       "        [0, 0, 0, ..., 0, 0, 0]],\n",
       "\n",
       "       [[0, 0, 0, ..., 0, 0, 0],\n",
       "        [0, 0, 0, ..., 0, 0, 0],\n",
       "        [0, 0, 0, ..., 0, 0, 0],\n",
       "        ...,\n",
       "        [0, 0, 0, ..., 0, 0, 0],\n",
       "        [0, 0, 0, ..., 0, 0, 0],\n",
       "        [0, 0, 0, ..., 0, 0, 0]],\n",
       "\n",
       "       [[0, 0, 0, ..., 0, 0, 0],\n",
       "        [0, 0, 0, ..., 0, 0, 0],\n",
       "        [0, 0, 0, ..., 0, 0, 0],\n",
       "        ...,\n",
       "        [0, 0, 0, ..., 0, 0, 0],\n",
       "        [0, 0, 0, ..., 0, 0, 0],\n",
       "        [0, 0, 0, ..., 0, 0, 0]],\n",
       "\n",
       "       ...,\n",
       "\n",
       "       [[0, 0, 0, ..., 0, 0, 0],\n",
       "        [0, 0, 0, ..., 0, 0, 0],\n",
       "        [0, 0, 0, ..., 0, 0, 0],\n",
       "        ...,\n",
       "        [0, 0, 0, ..., 0, 0, 0],\n",
       "        [0, 0, 0, ..., 0, 0, 0],\n",
       "        [0, 0, 0, ..., 0, 0, 0]],\n",
       "\n",
       "       [[0, 0, 0, ..., 0, 0, 0],\n",
       "        [0, 0, 0, ..., 0, 0, 0],\n",
       "        [0, 0, 0, ..., 0, 0, 0],\n",
       "        ...,\n",
       "        [0, 0, 0, ..., 0, 0, 0],\n",
       "        [0, 0, 0, ..., 0, 0, 0],\n",
       "        [0, 0, 0, ..., 0, 0, 0]],\n",
       "\n",
       "       [[0, 0, 0, ..., 0, 0, 0],\n",
       "        [0, 0, 0, ..., 0, 0, 0],\n",
       "        [0, 0, 0, ..., 0, 0, 0],\n",
       "        ...,\n",
       "        [0, 0, 0, ..., 0, 0, 0],\n",
       "        [0, 0, 0, ..., 0, 0, 0],\n",
       "        [0, 0, 0, ..., 0, 0, 0]]], dtype=int32)"
      ]
     },
     "execution_count": 10,
     "metadata": {},
     "output_type": "execute_result"
    }
   ],
   "source": [
    "raw"
   ]
  },
  {
   "cell_type": "code",
   "execution_count": 7,
   "metadata": {},
   "outputs": [
    {
     "data": {
      "text/plain": [
       "(38015, 8)"
      ]
     },
     "execution_count": 7,
     "metadata": {},
     "output_type": "execute_result"
    }
   ],
   "source": [
    "label.shape"
   ]
  },
  {
   "cell_type": "code",
   "execution_count": 9,
   "metadata": {},
   "outputs": [
    {
     "data": {
      "text/plain": [
       "38"
      ]
     },
     "execution_count": 9,
     "metadata": {},
     "output_type": "execute_result"
    }
   ],
   "source": [
    "len(np.unique(label, axis=0))"
   ]
  },
  {
   "cell_type": "code",
   "execution_count": 12,
   "metadata": {},
   "outputs": [],
   "source": [
    "unique_labels = np.unique(label, axis=0)\n",
    "label_to_int = {tuple(lbl): idx for idx, lbl in enumerate(unique_labels)}\n",
    "# Convert labels to integers\n",
    "int_labels = np.array([label_to_int[tuple(lbl)] for lbl in label])"
   ]
  },
  {
   "cell_type": "code",
   "execution_count": 17,
   "metadata": {},
   "outputs": [
    {
     "data": {
      "text/plain": [
       "{(0, 0, 0, 0, 0, 0, 0, 0): 0,\n",
       " (0, 0, 0, 0, 0, 0, 0, 1): 1,\n",
       " (0, 0, 0, 0, 0, 0, 1, 0): 2,\n",
       " (0, 0, 0, 0, 0, 1, 0, 0): 3,\n",
       " (0, 0, 0, 0, 1, 0, 0, 0): 4,\n",
       " (0, 0, 0, 0, 1, 0, 1, 0): 5,\n",
       " (0, 0, 0, 1, 0, 0, 0, 0): 6,\n",
       " (0, 0, 0, 1, 0, 0, 1, 0): 7,\n",
       " (0, 0, 0, 1, 1, 0, 0, 0): 8,\n",
       " (0, 0, 0, 1, 1, 0, 1, 0): 9,\n",
       " (0, 0, 1, 0, 0, 0, 0, 0): 10,\n",
       " (0, 0, 1, 0, 0, 0, 1, 0): 11,\n",
       " (0, 0, 1, 0, 1, 0, 0, 0): 12,\n",
       " (0, 0, 1, 0, 1, 0, 1, 0): 13,\n",
       " (0, 1, 0, 0, 0, 0, 0, 0): 14,\n",
       " (0, 1, 0, 0, 0, 0, 1, 0): 15,\n",
       " (0, 1, 0, 0, 1, 0, 0, 0): 16,\n",
       " (0, 1, 0, 0, 1, 0, 1, 0): 17,\n",
       " (0, 1, 0, 1, 0, 0, 0, 0): 18,\n",
       " (0, 1, 0, 1, 0, 0, 1, 0): 19,\n",
       " (0, 1, 0, 1, 1, 0, 0, 0): 20,\n",
       " (0, 1, 0, 1, 1, 0, 1, 0): 21,\n",
       " (0, 1, 1, 0, 0, 0, 0, 0): 22,\n",
       " (0, 1, 1, 0, 0, 0, 1, 0): 23,\n",
       " (0, 1, 1, 0, 1, 0, 0, 0): 24,\n",
       " (0, 1, 1, 0, 1, 0, 1, 0): 25,\n",
       " (1, 0, 0, 0, 0, 0, 0, 0): 26,\n",
       " (1, 0, 0, 0, 0, 0, 1, 0): 27,\n",
       " (1, 0, 0, 0, 1, 0, 0, 0): 28,\n",
       " (1, 0, 0, 0, 1, 0, 1, 0): 29,\n",
       " (1, 0, 0, 1, 0, 0, 0, 0): 30,\n",
       " (1, 0, 0, 1, 0, 0, 1, 0): 31,\n",
       " (1, 0, 0, 1, 1, 0, 0, 0): 32,\n",
       " (1, 0, 0, 1, 1, 0, 1, 0): 33,\n",
       " (1, 0, 1, 0, 0, 0, 0, 0): 34,\n",
       " (1, 0, 1, 0, 0, 0, 1, 0): 35,\n",
       " (1, 0, 1, 0, 1, 0, 0, 0): 36,\n",
       " (1, 0, 1, 0, 1, 0, 1, 0): 37}"
      ]
     },
     "execution_count": 17,
     "metadata": {},
     "output_type": "execute_result"
    }
   ],
   "source": [
    "label_to_int"
   ]
  },
  {
   "cell_type": "code",
   "execution_count": 19,
   "metadata": {},
   "outputs": [],
   "source": [
    "np.savez(\"data/Wafer/TransformedWaterMapData.npz\", raw_data=raw, int_labels=int_labels)"
   ]
  },
  {
   "cell_type": "markdown",
   "metadata": {},
   "source": [
    "# Preprocess\n"
   ]
  },
  {
   "cell_type": "code",
   "execution_count": 1,
   "metadata": {},
   "outputs": [],
   "source": [
    "import numpy as np\n",
    "\n",
    "data_path = \"data/Wafer/TransformedWaterMapData.npz\"\n",
    "data = np.load(data_path)\n",
    "\n",
    "images = data[\"raw_data\"]\n",
    "labels = data[\"int_labels\"]"
   ]
  },
  {
   "cell_type": "code",
   "execution_count": 2,
   "metadata": {},
   "outputs": [],
   "source": [
    "# Split the data into train, validation, and test sets\n",
    "total_samples = images.shape[0]\n",
    "train_size = int(0.7 * total_samples)  # 70% for training\n",
    "val_size = int(0.15 * total_samples)  # 15% for validation\n",
    "test_size = total_samples - train_size - val_size  # 15% for testing\n",
    "\n",
    "train_images, train_labels = images[:train_size], labels[:train_size]\n",
    "val_images, val_labels = (\n",
    "    images[train_size : train_size + val_size],\n",
    "    labels[train_size : train_size + val_size],\n",
    ")\n",
    "test_images, test_labels = (\n",
    "    images[train_size + val_size :],\n",
    "    labels[train_size + val_size :],\n",
    ")"
   ]
  },
  {
   "cell_type": "code",
   "execution_count": null,
   "metadata": {},
   "outputs": [],
   "source": []
  },
  {
   "cell_type": "code",
   "execution_count": 9,
   "metadata": {},
   "outputs": [],
   "source": [
    "import os\n",
    "\n",
    "train_images = train_images[:, np.newaxis, :, :]\n",
    "val_images = val_images[:, np.newaxis, :, :]\n",
    "test_images = test_images[:, np.newaxis, :, :]\n",
    "\n",
    "\n",
    "# Function to save data\n",
    "def save_data(images, labels, filename):\n",
    "    np.savez(filename, images=images, labels=labels)\n",
    "\n",
    "\n",
    "# Ensure the directory for saving the splits exists\n",
    "save_dir = \"data/Wafer/splits\"\n",
    "os.makedirs(save_dir, exist_ok=True)\n",
    "\n",
    "# Save the splits\n",
    "save_data(train_images, train_labels, os.path.join(save_dir, \"train_data.npz\"))\n",
    "save_data(val_images, val_labels, os.path.join(save_dir, \"val_data.npz\"))\n",
    "save_data(test_images, test_labels, os.path.join(save_dir, \"test_data.npz\"))"
   ]
  },
  {
   "cell_type": "code",
   "execution_count": 10,
   "metadata": {},
   "outputs": [
    {
     "data": {
      "text/plain": [
       "(26610, 1, 52, 52)"
      ]
     },
     "execution_count": 10,
     "metadata": {},
     "output_type": "execute_result"
    }
   ],
   "source": [
    "train_images.shape"
   ]
  },
  {
   "cell_type": "markdown",
   "metadata": {},
   "source": [
    "# New splitting\n"
   ]
  },
  {
   "cell_type": "code",
   "execution_count": 2,
   "metadata": {},
   "outputs": [
    {
     "name": "stdout",
     "output_type": "stream",
     "text": [
      "Data has been split and saved successfully.\n"
     ]
    }
   ],
   "source": [
    "import numpy as np\n",
    "from sklearn.model_selection import train_test_split\n",
    "import os\n",
    "\n",
    "# Load the data\n",
    "data_path = \"data/Wafer/TransformedWaterMapData.npz\"\n",
    "data = np.load(data_path)\n",
    "images = data[\"raw_data\"]\n",
    "labels = data[\"int_labels\"]\n",
    "\n",
    "# Expand dimensions to match required shape\n",
    "images = images[:, np.newaxis, :, :]\n",
    "\n",
    "# Stratified split into train and temp (validation + test) sets\n",
    "train_images, temp_images, train_labels, temp_labels = train_test_split(\n",
    "    images, labels, test_size=0.3, stratify=labels, random_state=42\n",
    ")\n",
    "\n",
    "# Further stratified split temp set into validation and test sets\n",
    "val_images, test_images, val_labels, test_labels = train_test_split(\n",
    "    temp_images, temp_labels, test_size=0.5, stratify=temp_labels, random_state=42\n",
    ")\n",
    "\n",
    "\n",
    "# Function to save data\n",
    "def save_data(images, labels, filename):\n",
    "    np.savez(filename, images=images, labels=labels)\n",
    "\n",
    "\n",
    "# Ensure the directory for saving the splits exists\n",
    "save_dir = \"data/Wafer/splits\"\n",
    "os.makedirs(save_dir, exist_ok=True)\n",
    "\n",
    "# Save the splits\n",
    "save_data(train_images, train_labels, os.path.join(save_dir, \"train_data.npz\"))\n",
    "save_data(val_images, val_labels, os.path.join(save_dir, \"val_data.npz\"))\n",
    "save_data(test_images, test_labels, os.path.join(save_dir, \"test_data.npz\"))\n",
    "\n",
    "print(\"Data has been split and saved successfully.\")"
   ]
  },
  {
   "cell_type": "code",
   "execution_count": 8,
   "metadata": {},
   "outputs": [
    {
     "data": {
      "text/plain": [
       "array([ 0,  1,  2,  3,  4,  5,  6,  7,  8,  9, 10, 11, 12, 13, 14, 15, 16,\n",
       "       17, 18, 19, 20, 21, 22, 23, 24, 25, 26, 27, 28, 29, 30, 31, 32, 33,\n",
       "       34, 35, 36, 37])"
      ]
     },
     "execution_count": 8,
     "metadata": {},
     "output_type": "execute_result"
    }
   ],
   "source": [
    "np.unique(val_labels)"
   ]
  },
  {
   "cell_type": "code",
   "execution_count": 9,
   "metadata": {},
   "outputs": [
    {
     "name": "stdout",
     "output_type": "stream",
     "text": [
      "Data has been split and saved successfully if there were no correspondence errors.\n"
     ]
    }
   ],
   "source": [
    "import numpy as np\n",
    "from sklearn.model_selection import train_test_split\n",
    "import os\n",
    "\n",
    "# Load the data\n",
    "data_path = \"data/Wafer/TransformedWaterMapData.npz\"\n",
    "data = np.load(data_path)\n",
    "images = data[\"raw_data\"]\n",
    "labels = data[\"int_labels\"]\n",
    "\n",
    "# Expand dimensions to match required shape\n",
    "images = images[:, np.newaxis, :, :]\n",
    "\n",
    "# Stratified split into train and test sets\n",
    "train_images, test_images, train_labels, test_labels = train_test_split(\n",
    "    images, labels, test_size=0.3, stratify=labels, random_state=42\n",
    ")\n",
    "\n",
    "\n",
    "# Check correspondence\n",
    "def check_correspondence(images, labels):\n",
    "    for i in range(len(labels)):\n",
    "        if images[i] is None or labels[i] is None:\n",
    "            return False\n",
    "    return True\n",
    "\n",
    "\n",
    "# Function to save data\n",
    "def save_data(images, labels, filename):\n",
    "    np.savez(filename, images=images, labels=labels)\n",
    "\n",
    "\n",
    "# Ensure the directory for saving the splits exists\n",
    "save_dir = \"/hpc2hdd/home/mgong081/Projects/DivideMix-prestopping/data/Wafer/splits\"\n",
    "os.makedirs(save_dir, exist_ok=True)\n",
    "\n",
    "# Save the splits if they correspond correctly\n",
    "if check_correspondence(train_images, train_labels):\n",
    "    save_data(train_images, train_labels, os.path.join(save_dir, \"train_data.npz\"))\n",
    "else:\n",
    "    print(\"Error: Train images and labels do not correspond correctly.\")\n",
    "\n",
    "if check_correspondence(test_images, test_labels):\n",
    "    save_data(test_images, test_labels, os.path.join(save_dir, \"test_data.npz\"))\n",
    "else:\n",
    "    print(\"Error: Test images and labels do not correspond correctly.\")\n",
    "\n",
    "print(\n",
    "    \"Data has been split and saved successfully if there were no correspondence errors.\"\n",
    ")"
   ]
  },
  {
   "cell_type": "code",
   "execution_count": 22,
   "metadata": {},
   "outputs": [
    {
     "data": {
      "text/plain": [
       "(26610, 11405)"
      ]
     },
     "execution_count": 22,
     "metadata": {},
     "output_type": "execute_result"
    }
   ],
   "source": [
    "(len(train_images), len(test_images))"
   ]
  },
  {
   "cell_type": "markdown",
   "metadata": {},
   "source": [
    "# Tain Val and Test\n"
   ]
  },
  {
   "cell_type": "code",
   "execution_count": 1,
   "metadata": {},
   "outputs": [],
   "source": [
    "import numpy as np\n",
    "from sklearn.model_selection import train_test_split\n",
    "import os\n",
    "\n",
    "# Load the data\n",
    "data_path = \"Wafer/TransformedWaterMapData.npz\"\n",
    "data = np.load(data_path)\n",
    "images = data[\"raw_data\"]\n",
    "labels = data[\"int_labels\"]\n",
    "\n",
    "# Expand dimensions to match required shape\n",
    "images = images[:, np.newaxis, :, :]\n",
    "\n",
    "# Stratified split into train (70%) and temp (30%) sets\n",
    "train_images, temp_images, train_labels, temp_labels = train_test_split(\n",
    "    images, labels, test_size=0.3, stratify=labels, random_state=42\n",
    ")\n",
    "\n",
    "# Further stratified split temp set into validation (15%) and test (15%) sets\n",
    "val_images, test_images, val_labels, test_labels = train_test_split(\n",
    "    temp_images, temp_labels, test_size=0.5, stratify=temp_labels, random_state=42\n",
    ")"
   ]
  },
  {
   "cell_type": "code",
   "execution_count": 2,
   "metadata": {},
   "outputs": [
    {
     "data": {
      "text/plain": [
       "array([14, 36, 24, 31, 28, 11, 30, 22,  7, 35, 19, 15, 18,  6, 13, 34,  0,\n",
       "       23, 17, 35, 11, 27, 24, 29, 37, 29, 18, 30, 22, 25, 14,  7, 21,  4,\n",
       "       35, 33, 12, 30, 11, 29,  6, 12, 35, 13, 31, 12,  8,  5, 34, 34, 35,\n",
       "       35, 29, 28,  9, 17, 26, 16,  0, 17,  2, 21, 28, 18])"
      ]
     },
     "execution_count": 2,
     "metadata": {},
     "output_type": "execute_result"
    }
   ],
   "source": [
    "indices = [\n",
    "    2691,\n",
    "    726,\n",
    "    3929,\n",
    "    23276,\n",
    "    18097,\n",
    "    17835,\n",
    "    4101,\n",
    "    17254,\n",
    "    7898,\n",
    "    23913,\n",
    "    20606,\n",
    "    1252,\n",
    "    20693,\n",
    "    1898,\n",
    "    8628,\n",
    "    9686,\n",
    "    10579,\n",
    "    25687,\n",
    "    14867,\n",
    "    11631,\n",
    "    7085,\n",
    "    24716,\n",
    "    18525,\n",
    "    9548,\n",
    "    15876,\n",
    "    23865,\n",
    "    4972,\n",
    "    20819,\n",
    "    1629,\n",
    "    14436,\n",
    "    22147,\n",
    "    3643,\n",
    "    5167,\n",
    "    17802,\n",
    "    19578,\n",
    "    6824,\n",
    "    17860,\n",
    "    20420,\n",
    "    96,\n",
    "    18677,\n",
    "    6721,\n",
    "    6013,\n",
    "    1172,\n",
    "    2407,\n",
    "    17117,\n",
    "    17738,\n",
    "    2801,\n",
    "    11546,\n",
    "    679,\n",
    "    10496,\n",
    "    25864,\n",
    "    10026,\n",
    "    1147,\n",
    "    25563,\n",
    "    17579,\n",
    "    26441,\n",
    "    4422,\n",
    "    24154,\n",
    "    940,\n",
    "    18474,\n",
    "    21513,\n",
    "    6869,\n",
    "    8373,\n",
    "    22284,\n",
    "]\n",
    "\n",
    "train_labels[indices]"
   ]
  },
  {
   "cell_type": "code",
   "execution_count": 3,
   "metadata": {},
   "outputs": [
    {
     "data": {
      "text/plain": [
       "36"
      ]
     },
     "execution_count": 3,
     "metadata": {},
     "output_type": "execute_result"
    }
   ],
   "source": [
    "train_labels[726]"
   ]
  },
  {
   "cell_type": "code",
   "execution_count": 8,
   "metadata": {},
   "outputs": [
    {
     "data": {
      "text/plain": [
       "(Counter({31: 700,\n",
       "          7: 700,\n",
       "          24: 700,\n",
       "          27: 700,\n",
       "          15: 700,\n",
       "          30: 700,\n",
       "          8: 700,\n",
       "          19: 700,\n",
       "          32: 700,\n",
       "          26: 700,\n",
       "          20: 700,\n",
       "          23: 700,\n",
       "          17: 700,\n",
       "          33: 700,\n",
       "          18: 700,\n",
       "          37: 700,\n",
       "          10: 700,\n",
       "          2: 700,\n",
       "          22: 700,\n",
       "          0: 700,\n",
       "          9: 700,\n",
       "          29: 700,\n",
       "          4: 700,\n",
       "          6: 700,\n",
       "          34: 700,\n",
       "          36: 700,\n",
       "          16: 700,\n",
       "          14: 700,\n",
       "          28: 700,\n",
       "          5: 700,\n",
       "          35: 1400,\n",
       "          13: 700,\n",
       "          21: 700,\n",
       "          11: 700,\n",
       "          12: 700,\n",
       "          1: 606,\n",
       "          25: 700,\n",
       "          3: 104}),\n",
       " Counter({8: 150,\n",
       "          35: 300,\n",
       "          16: 150,\n",
       "          20: 150,\n",
       "          21: 150,\n",
       "          12: 150,\n",
       "          9: 150,\n",
       "          15: 150,\n",
       "          22: 150,\n",
       "          33: 150,\n",
       "          24: 150,\n",
       "          7: 150,\n",
       "          14: 150,\n",
       "          0: 150,\n",
       "          18: 150,\n",
       "          4: 150,\n",
       "          19: 150,\n",
       "          2: 150,\n",
       "          27: 150,\n",
       "          25: 150,\n",
       "          37: 150,\n",
       "          1: 130,\n",
       "          34: 150,\n",
       "          5: 150,\n",
       "          29: 150,\n",
       "          23: 150,\n",
       "          31: 150,\n",
       "          28: 150,\n",
       "          30: 150,\n",
       "          36: 150,\n",
       "          32: 150,\n",
       "          17: 150,\n",
       "          11: 150,\n",
       "          6: 150,\n",
       "          26: 150,\n",
       "          13: 150,\n",
       "          3: 22,\n",
       "          10: 150}),\n",
       " Counter({20: 150,\n",
       "          27: 150,\n",
       "          32: 150,\n",
       "          19: 150,\n",
       "          18: 150,\n",
       "          4: 150,\n",
       "          15: 150,\n",
       "          35: 300,\n",
       "          14: 150,\n",
       "          10: 150,\n",
       "          36: 150,\n",
       "          3: 23,\n",
       "          30: 150,\n",
       "          5: 150,\n",
       "          13: 150,\n",
       "          37: 150,\n",
       "          24: 150,\n",
       "          33: 150,\n",
       "          16: 150,\n",
       "          6: 150,\n",
       "          17: 150,\n",
       "          23: 150,\n",
       "          31: 150,\n",
       "          34: 150,\n",
       "          29: 150,\n",
       "          22: 150,\n",
       "          8: 150,\n",
       "          2: 150,\n",
       "          11: 150,\n",
       "          1: 130,\n",
       "          7: 150,\n",
       "          26: 150,\n",
       "          0: 150,\n",
       "          21: 150,\n",
       "          25: 150,\n",
       "          12: 150,\n",
       "          28: 150,\n",
       "          9: 150}))"
      ]
     },
     "execution_count": 8,
     "metadata": {},
     "output_type": "execute_result"
    }
   ],
   "source": [
    "from collections import Counter\n",
    "\n",
    "Counter(train_labels), Counter(val_labels), Counter(test_labels)"
   ]
  },
  {
   "cell_type": "code",
   "execution_count": null,
   "metadata": {},
   "outputs": [],
   "source": [
    "# Check correspondence\n",
    "def check_correspondence(images, labels):\n",
    "    for i in range(len(labels)):\n",
    "        if images[i] is None or labels[i] is None:\n",
    "            return False\n",
    "    return True\n",
    "\n",
    "\n",
    "# Function to save data\n",
    "def save_data(images, labels, filename):\n",
    "    np.savez(filename, images=images, labels=labels)\n",
    "\n",
    "\n",
    "# Ensure the directory for saving the splits exists\n",
    "save_dir = \"/hpc2hdd/home/mgong081/Projects/DivideMix-prestopping/data/Wafer/3splits\"\n",
    "os.makedirs(save_dir, exist_ok=True)\n",
    "\n",
    "# Save the splits if they correspond correctly\n",
    "if check_correspondence(train_images, train_labels):\n",
    "    save_data(train_images, train_labels, os.path.join(save_dir, \"train_data.npz\"))\n",
    "else:\n",
    "    print(\"Error: Train images and labels do not correspond correctly.\")\n",
    "\n",
    "if check_correspondence(val_images, val_labels):\n",
    "    save_data(val_images, val_labels, os.path.join(save_dir, \"val_data.npz\"))\n",
    "else:\n",
    "    print(\"Error: Validation images and labels do not correspond correctly.\")\n",
    "\n",
    "if check_correspondence(test_images, test_labels):\n",
    "    save_data(test_images, test_labels, os.path.join(save_dir, \"test_data.npz\"))\n",
    "else:\n",
    "    print(\"Error: Test images and labels do not correspond correctly.\")\n",
    "\n",
    "print(\n",
    "    \"Data has been split and saved successfully if there were no correspondence errors.\"\n",
    ")"
   ]
  },
  {
   "cell_type": "code",
   "execution_count": 11,
   "metadata": {},
   "outputs": [
    {
     "data": {
      "text/plain": [
       "(26610, 1, 52, 52)"
      ]
     },
     "execution_count": 11,
     "metadata": {},
     "output_type": "execute_result"
    }
   ],
   "source": [
    "train_images.shape"
   ]
  }
 ],
 "metadata": {
  "language_info": {
   "name": "python"
  }
 },
 "nbformat": 4,
 "nbformat_minor": 2
}
